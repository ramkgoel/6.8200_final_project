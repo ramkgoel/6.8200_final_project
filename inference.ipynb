{
 "cells": [
  {
   "cell_type": "code",
   "execution_count": 10,
   "id": "a358a7dd-879b-4c9e-b7f9-fe1393c432d5",
   "metadata": {},
   "outputs": [
    {
     "name": "stdout",
     "output_type": "stream",
     "text": [
      "/data/vision/torralba/graphphys/transformer_experiments/transformer/6.8200_final_project\n"
     ]
    }
   ],
   "source": [
    "%cd /data/vision/torralba/graphphys/transformer_experiments/transformer/6.8200_final_project/"
   ]
  },
  {
   "cell_type": "code",
   "execution_count": 11,
   "id": "ddc7a1e1-806e-4124-9980-109e272faa4f",
   "metadata": {},
   "outputs": [],
   "source": [
    "from PushTImageEnv import PushTImageEnv\n",
    "from data_vision import PushTImageDataset, unnormalize_data, normalize_data\n",
    "import torch as t\n",
    "import torch\n",
    "from torch import nn\n",
    "import torchvision\n",
    "import numpy as np\n",
    "from conditional_unet1d import ConditionalUnet1D\n",
    "from transformer_for_diffusion import TransformerForDiffusion\n",
    "from diffusers.training_utils import EMAModel\n",
    "from diffusers import DDPMScheduler, DDIMScheduler\n",
    "from diffusers.optimization import get_scheduler\n",
    "from tqdm.notebook import tqdm\n",
    "import collections\n",
    "import matplotlib.pyplot as plt\n",
    "\n",
    "import pickle"
   ]
  },
  {
   "cell_type": "code",
   "execution_count": 3,
   "id": "d0649a70-a869-451c-b902-31807251a779",
   "metadata": {},
   "outputs": [
    {
     "data": {
      "application/vnd.jupyter.widget-view+json": {
       "model_id": "3e04e7dd02ea4d97a7e2327d0dddb19f",
       "version_major": 2,
       "version_minor": 0
      },
      "text/plain": [
       "  0%|          | 0/7 [00:00<?, ?it/s]"
      ]
     },
     "metadata": {},
     "output_type": "display_data"
    }
   ],
   "source": [
    "values = [1, 2, 3, 4, 5, 6, 8]\n",
    "paths = [f\"results_tuning/vision_results_obs_horizon_{val}_tuning.pkl\" for val in values]\n",
    "\n",
    "losses = []\n",
    "models = []\n",
    "for path in tqdm(paths):\n",
    "    with open(path, \"rb\") as file:\n",
    "        losses1 = pickle.load(file)\n",
    "        losses.append(losses1[0])\n",
    "        models.append(losses1[1])"
   ]
  },
  {
   "cell_type": "code",
   "execution_count": 7,
   "id": "bd105b42-dd4d-4c3f-9b75-fbcd75b7f327",
   "metadata": {},
   "outputs": [
    {
     "data": {
      "image/png": "[encoded data removed]",
      "text/plain": [
       "<Figure size 640x480 with 1 Axes>"
      ]
     },
     "metadata": {},
     "output_type": "display_data"
    }
   ],
   "source": [
    "import matplotlib.pyplot as plt\n",
    "\n",
    "colors = [\"red\", \"blue\", \"purple\", \"green\", \"black\", \"yellow\", \"cyan\"]\n",
    "\n",
    "for i in range(len(losses)):\n",
    "    plt.plot(losses[i], color=colors[i])"
   ]
  },
  {
   "cell_type": "code",
   "execution_count": 3,
   "id": "dbc62c29-398a-4a21-92e3-42ca59ced3e3",
   "metadata": {},
   "outputs": [],
   "source": [
    "diffusion_timesteps = 100\n",
    "\n",
    "noise_scheduler = DDPMScheduler(\n",
    "    num_train_timesteps=diffusion_timesteps,\n",
    "    beta_schedule='squaredcos_cap_v2',\n",
    "    clip_sample=True,\n",
    "    prediction_type='epsilon'\n",
    ")\n",
    "\n",
    "dataset_path = \"pusht_cchi_v7_replay.zarr\"\n",
    "\n",
    "# create dataset from file\n",
    "dataset = PushTImageDataset(\n",
    "    dataset_path=dataset_path,\n",
    "    pred_horizon=1,\n",
    "    obs_horizon=1,\n",
    "    action_horizon=1\n",
    ")\n",
    "\n",
    "stats = dataset.stats\n",
    "\n",
    "env = PushTImageEnv(reset_to_state=np.array([150, 350, 350, 150, np.pi/4]))\n",
    "# use a seed >200 to avoid initial states seen in the training dataset\n",
    "env.seed(300)"
   ]
  },
  {
   "cell_type": "code",
   "execution_count": 7,
   "id": "30ad83ab-6b85-4e38-8b69-5ff7ce14c989",
   "metadata": {},
   "outputs": [],
   "source": [
    "def run_inference(ema, env=env, obs_horizon=2, max_steps=500, device=\"cuda\", stop_reward=0.9, action_horizon=8, pred_horizon=16, action_dim=2):\n",
    "# # limit enviornment interaction to 200 steps before termination\n",
    "# max_steps = 500\n",
    "# env = PushTImageEnv()\n",
    "# # use a seed >200 to avoid initial states seen in the training dataset\n",
    "# env.seed(100000)\n",
    "\n",
    "    ema.averaged_model[0].to(device)\n",
    "    ema.averaged_model[1].to(device)\n",
    "\n",
    "    # get first observation\n",
    "    obs = env.reset()\n",
    "\n",
    "    # keep a queue of last 2 steps of observations\n",
    "    obs_deque = collections.deque(\n",
    "        [obs] * obs_horizon, maxlen=obs_horizon)\n",
    "    # save visualization and rewards\n",
    "    imgs = [env.render(mode='rgb_array')]\n",
    "    rewards = list()\n",
    "    done = False\n",
    "    step_idx = 0\n",
    "    obs_list = [obs]\n",
    "\n",
    "    with tqdm(total=max_steps, desc=\"Eval PushTImageEnv\") as pbar:\n",
    "        while not done:\n",
    "            B = 1\n",
    "            # stack the last obs_horizon number of observations\n",
    "            images = np.stack([x['image'] for x in obs_deque])\n",
    "            agent_poses = np.stack([x['agent_pos'] for x in obs_deque])\n",
    "\n",
    "            # normalize observation\n",
    "            nagent_poses = normalize_data(agent_poses, stats=stats['agent_pos'])\n",
    "            # images are already normalized to [0,1]\n",
    "            nimages = images\n",
    "\n",
    "            # device transfer\n",
    "            nimages = torch.from_numpy(nimages).to(device, dtype=torch.float32)\n",
    "            # (2,3,96,96)\n",
    "            nagent_poses = torch.from_numpy(nagent_poses).to(device, dtype=torch.float32)\n",
    "            # (2,2)\n",
    "\n",
    "            # infer action\n",
    "            with torch.no_grad():\n",
    "                # get image features\n",
    "                image_features = ema.averaged_model[0](nimages)\n",
    "                # (2,512)\n",
    "\n",
    "                # concat with low-dim observations\n",
    "                obs_features = torch.cat([image_features, nagent_poses], dim=-1)\n",
    "\n",
    "                # reshape observation to (B,obs_horizon*obs_dim)\n",
    "                obs_cond = obs_features.unsqueeze(0).flatten(start_dim=1)\n",
    "\n",
    "                # initialize action from Guassian noise\n",
    "                noisy_action = torch.randn(\n",
    "                    (B, pred_horizon, action_dim), device=device)\n",
    "                naction = noisy_action\n",
    "\n",
    "                # init scheduler\n",
    "                noise_scheduler.set_timesteps(diffusion_timesteps)\n",
    "\n",
    "                for k in noise_scheduler.timesteps:\n",
    "                    # predict noise\n",
    "                    noise_pred = ema.averaged_model[1](\n",
    "                        sample=naction,\n",
    "                        timestep=k,\n",
    "                        global_cond=obs_cond\n",
    "                    )\n",
    "\n",
    "                    # inverse diffusion step (remove noise)\n",
    "                    naction = noise_scheduler.step(\n",
    "                        model_output=noise_pred,\n",
    "                        timestep=k,\n",
    "                        sample=naction\n",
    "                    ).prev_sample\n",
    "\n",
    "            # unnormalize action\n",
    "            naction = naction.detach().to('cpu').numpy()\n",
    "            # (B, pred_horizon, action_dim)\n",
    "            naction = naction[0]\n",
    "            action_pred = unnormalize_data(naction, stats=stats['action'])\n",
    "\n",
    "            # only take action_horizon number of actions\n",
    "            start = obs_horizon - 1\n",
    "            end = start + action_horizon\n",
    "            action = action_pred[start:end,:]\n",
    "            # (action_horizon, action_dim)\n",
    "\n",
    "            # execute action_horizon number of steps\n",
    "            # without replanning\n",
    "            for i in range(len(action)):\n",
    "                # stepping env\n",
    "                obs, reward, done, info = env.step(action[i])\n",
    "                # save observations\n",
    "                obs_deque.append(obs)\n",
    "                obs_list.append(obs)\n",
    "                # and reward/vis\n",
    "                rewards.append(reward)\n",
    "                imgs.append(env.render(mode='rgb_array'))\n",
    "\n",
    "                # update progress bar\n",
    "                step_idx += 1\n",
    "                pbar.update(1)\n",
    "                pbar.set_postfix(reward=reward)\n",
    "                if step_idx > max_steps or reward >= stop_reward:\n",
    "                    done = True\n",
    "                if done:\n",
    "                    break\n",
    "    return rewards, imgs, obs_list"
   ]
  },
  {
   "cell_type": "code",
   "execution_count": 5,
   "id": "98fc90ba-d5a0-48b2-b1db-115d53ec497b",
   "metadata": {},
   "outputs": [
    {
     "ename": "NameError",
     "evalue": "name 'losses' is not defined",
     "output_type": "error",
     "traceback": [
      "\u001b[0;31m---------------------------------------------------------------------------\u001b[0m",
      "\u001b[0;31mNameError\u001b[0m                                 Traceback (most recent call last)",
      "Cell \u001b[0;32mIn[5], line 2\u001b[0m\n\u001b[1;32m      1\u001b[0m results_rewards \u001b[38;5;241m=\u001b[39m []\n\u001b[0;32m----> 2\u001b[0m \u001b[38;5;28;01mfor\u001b[39;00m j \u001b[38;5;129;01min\u001b[39;00m tqdm(\u001b[38;5;28mrange\u001b[39m(\u001b[38;5;241m1\u001b[39m, \u001b[38;5;28mlen\u001b[39m(\u001b[43mlosses\u001b[49m))):\n\u001b[1;32m      3\u001b[0m     obs_horizon \u001b[38;5;241m=\u001b[39m values[j]\n\u001b[1;32m      4\u001b[0m     all_rewards \u001b[38;5;241m=\u001b[39m []\n",
      "\u001b[0;31mNameError\u001b[0m: name 'losses' is not defined"
     ]
    }
   ],
   "source": [
    "results_rewards = []\n",
    "for j in tqdm(range(1, len(losses))):\n",
    "    obs_horizon = values[j]\n",
    "    all_rewards = []\n",
    "    all_imgs = []\n",
    "    all_obs = []\n",
    "    for i in tqdm(range(10)):\n",
    "        rewards, imgs, obs_list = run_inference(models[j], obs_horizon=obs_horizon)\n",
    "        all_rewards.append(rewards)\n",
    "        all_imgs.append(imgs)\n",
    "        all_obs.append(obs_list)\n",
    "        \n",
    "    results_rewards.append(all_rewards)"
   ]
  },
  {
   "cell_type": "code",
   "execution_count": null,
   "id": "81a2f81c-0401-4d0d-a751-8edaba964195",
   "metadata": {},
   "outputs": [],
   "source": []
  },
  {
   "cell_type": "code",
   "execution_count": null,
   "id": "bde25bb4-945f-46fb-accd-7594a662e8e4",
   "metadata": {},
   "outputs": [],
   "source": []
  }
 ],
 "metadata": {
  "kernelspec": {
   "display_name": "Python 3 (ipykernel)",
   "language": "python",
   "name": "python3"
  },
  "language_info": {
   "codemirror_mode": {
    "name": "ipython",
    "version": 3
   },
   "file_extension": ".py",
   "mimetype": "text/x-python",
   "name": "python",
   "nbconvert_exporter": "python",
   "pygments_lexer": "ipython3",
   "version": "3.10.9"
  }
 },
 "nbformat": 4,
 "nbformat_minor": 5
}
